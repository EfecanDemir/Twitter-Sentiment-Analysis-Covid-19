{
 "cells": [
  {
   "cell_type": "code",
   "execution_count": 15,
   "metadata": {},
   "outputs": [
    {
     "name": "stdout",
     "output_type": "stream",
     "text": [
      "6440\n",
      "13352\n",
      "1622\n"
     ]
    },
    {
     "data": {
      "image/png": "[encoded data removed]",
      "text/plain": [
       "<Figure size 432x288 with 1 Axes>"
      ]
     },
     "metadata": {
      "needs_background": "light"
     },
     "output_type": "display_data"
    }
   ],
   "source": [
    "import matplotlib.pyplot as plt\n",
    "import pandas as pd\n",
    "import numpy as np\n",
    "%matplotlib inline\n",
    "\n",
    "\n",
    "data = pd.read_csv(r'C:\\Users\\MONSTER\\Desktop\\3.1dönem\\makina öğrenmesi proje\\2021_corona.csv') \n",
    "data.Sentiment_Analysis.value_counts().plot(kind='bar',title=\"Sentiment Analysis\")\n",
    "\n",
    "print((data['Sentiment_Analysis'].values == 1).sum())\n",
    "print((data['Sentiment_Analysis'].values == -1).sum())\n",
    "print((data['Sentiment_Analysis'].values == 0).sum())"
   ]
  },
  {
   "cell_type": "code",
   "execution_count": 14,
   "metadata": {},
   "outputs": [
    {
     "data": {
      "text/plain": [
       "<matplotlib.axes._subplots.AxesSubplot at 0x125f66ff128>"
      ]
     },
     "execution_count": 14,
     "metadata": {},
     "output_type": "execute_result"
    },
    {
     "data": {
      "image/png": "[encoded data removed]",
      "text/plain": [
       "<Figure size 432x288 with 1 Axes>"
      ]
     },
     "metadata": {
      "needs_background": "light"
     },
     "output_type": "display_data"
    }
   ],
   "source": [
    "data.Topic.value_counts().plot(kind='bar',title=\"Topic\")"
   ]
  },
  {
   "cell_type": "code",
   "execution_count": 1,
   "metadata": {},
   "outputs": [
    {
     "name": "stderr",
     "output_type": "stream",
     "text": [
      "D:\\Anaconda3\\lib\\site-packages\\sklearn\\utils\\validation.py:63: DataConversionWarning: A column-vector y was passed when a 1d array was expected. Please change the shape of y to (n_samples, ), for example using ravel().\n",
      "  return f(*args, **kwargs)\n"
     ]
    },
    {
     "name": "stdout",
     "output_type": "stream",
     "text": [
      "[[3304   10   34]\n",
      " [ 253  119   32]\n",
      " [ 909    9  684]]\n",
      "0.7670900261486739\n",
      "              precision    recall  f1-score   support\n",
      "\n",
      "          -1       0.74      0.99      0.85      3348\n",
      "           0       0.86      0.29      0.44       404\n",
      "           1       0.91      0.43      0.58      1602\n",
      "\n",
      "    accuracy                           0.77      5354\n",
      "   macro avg       0.84      0.57      0.62      5354\n",
      "weighted avg       0.80      0.77      0.74      5354\n",
      "\n"
     ]
    }
   ],
   "source": [
    "### SVM \n",
    "\n",
    "import pandas as pd\n",
    "\n",
    "\n",
    "\n",
    "data = pd.read_csv(r'C:\\Users\\MONSTER\\Desktop\\3.1dönem\\makina öğrenmesi proje\\2021_corona.csv') \n",
    "\n",
    "label=data[[\"Sentiment_Analysis\"]].values\n",
    "\n",
    "features=data[[\"Description\"]]\n",
    "\n",
    "from sklearn.feature_extraction.text import TfidfVectorizer\n",
    "vectorizer=TfidfVectorizer(analyzer=\"word\",lowercase=True)\n",
    "sentence_train_vector=vectorizer.fit_transform(data.iloc[:,0].astype(str))\n",
    "\n",
    "features=sentence_train_vector\n",
    "\n",
    "from sklearn.model_selection import train_test_split\n",
    "x_train, x_test, y_train, y_test = train_test_split(features,label,test_size=0.25,random_state=0)\n",
    "\n",
    "from sklearn.svm import SVC\n",
    "svc=SVC(kernel='poly')\n",
    "svc.fit(x_train,y_train)\n",
    "result=svc.predict(x_test)\n",
    "\n",
    "from sklearn.metrics import confusion_matrix \n",
    "cm=confusion_matrix(y_test,result)\n",
    "print(cm)\n",
    "\n",
    "from sklearn.metrics import accuracy_score,classification_report\n",
    "accuracy=accuracy_score(y_test,result)\n",
    "print(accuracy)\n",
    "\n",
    "print(classification_report(y_test,result))"
   ]
  },
  {
   "cell_type": "code",
   "execution_count": 3,
   "metadata": {},
   "outputs": [
    {
     "name": "stdout",
     "output_type": "stream",
     "text": [
      "[[3507  370  535]\n",
      " [ 351  112   65]\n",
      " [1358  163  606]]\n",
      "0.5978491580585822\n",
      "              precision    recall  f1-score   support\n",
      "\n",
      "          -1       0.67      0.79      0.73      4412\n",
      "           0       0.17      0.21      0.19       528\n",
      "           1       0.50      0.28      0.36      2127\n",
      "\n",
      "    accuracy                           0.60      7067\n",
      "   macro avg       0.45      0.43      0.43      7067\n",
      "weighted avg       0.58      0.60      0.58      7067\n",
      "\n"
     ]
    }
   ],
   "source": [
    "###naive_bayes\n",
    "\n",
    "import pandas as pd\n",
    "\n",
    "data = pd.read_csv(r'C:\\Users\\MONSTER\\Desktop\\3.1dönem\\makina öğrenmesi proje\\2021_corona.csv') \n",
    "\n",
    "species=data[[\"Sentiment_Analysis\"]].values\n",
    "\n",
    "from sklearn.feature_extraction.text import TfidfVectorizer\n",
    "from sklearn.decomposition import TruncatedSVD\n",
    "vectorizer=TfidfVectorizer(analyzer=\"word\",lowercase=True)\n",
    "svd = TruncatedSVD(n_components=100)\n",
    "X_tfidf = vectorizer.fit_transform(data.iloc[:,0].astype(str))\n",
    "X_svd = svd.fit_transform(X_tfidf)\n",
    "a = X_svd\n",
    "\n",
    "\n",
    "from sklearn.model_selection import train_test_split\n",
    "x_train, x_test, y_train, y_test = train_test_split(a,species,test_size=0.25,random_state=0)\n",
    "\n",
    "from sklearn.naive_bayes import GaussianNB\n",
    "\n",
    "gnb=GaussianNB()\n",
    "\n",
    "gnb.fit(x_train, y_train.ravel())\n",
    "\n",
    "result=gnb.predict(x_test)\n",
    "\n",
    "from sklearn.metrics import confusion_matrix\n",
    "cm=confusion_matrix(y_test,result)\n",
    "print(cm)\n",
    "\n",
    "from sklearn.metrics import accuracy_score,classification_report\n",
    "accuarcy=accuracy_score(y_test,result)\n",
    "print(accuarcy)\n",
    "\n",
    "print(classification_report(y_test,result))"
   ]
  },
  {
   "cell_type": "code",
   "execution_count": 4,
   "metadata": {},
   "outputs": [
    {
     "name": "stderr",
     "output_type": "stream",
     "text": [
      "D:\\Anaconda3\\lib\\site-packages\\ipykernel_launcher.py:23: DataConversionWarning: A column-vector y was passed when a 1d array was expected. Please change the shape of y to (n_samples,), for example using ravel().\n"
     ]
    },
    {
     "name": "stdout",
     "output_type": "stream",
     "text": [
      "[[3219   16  113]\n",
      " [ 229  127   48]\n",
      " [ 695   12  895]]\n",
      "              precision    recall  f1-score   support\n",
      "\n",
      "          -1       0.78      0.96      0.86      3348\n",
      "           0       0.82      0.31      0.45       404\n",
      "           1       0.85      0.56      0.67      1602\n",
      "\n",
      "    accuracy                           0.79      5354\n",
      "   macro avg       0.81      0.61      0.66      5354\n",
      "weighted avg       0.80      0.79      0.77      5354\n",
      "\n",
      "0.7921180425849832\n"
     ]
    }
   ],
   "source": [
    "###  random forest\n",
    "\n",
    "import pandas as pd\n",
    "\n",
    "data = pd.read_csv(r'C:\\Users\\MONSTER\\Desktop\\3.1dönem\\makina öğrenmesi proje\\2021_corona.csv') \n",
    "\n",
    "label=data[[\"Sentiment_Analysis\"]].values\n",
    "\n",
    "features=data[[\"Description\"]]\n",
    "\n",
    "from sklearn.feature_extraction.text import TfidfVectorizer\n",
    "vectorizer=TfidfVectorizer(analyzer=\"word\",lowercase=True)\n",
    "sentence_train_vector=vectorizer.fit_transform(data.iloc[:,0].astype(str))\n",
    "\n",
    "features=sentence_train_vector\n",
    "\n",
    "\n",
    "from sklearn.model_selection import train_test_split\n",
    "x_train, x_test, y_train, y_test = train_test_split(features,label,test_size=0.25,random_state=0)\n",
    "\n",
    "from sklearn.ensemble import RandomForestClassifier\n",
    "text_classifier = RandomForestClassifier(n_estimators=200, random_state=0)\n",
    "text_classifier.fit(x_train, y_train)\n",
    "\n",
    "predictions = text_classifier.predict(x_test)\n",
    "\n",
    "from sklearn.metrics import classification_report, confusion_matrix, accuracy_score\n",
    "\n",
    "print(confusion_matrix(y_test,predictions))\n",
    "print(classification_report(y_test,predictions))\n",
    "print(accuracy_score(y_test, predictions))"
   ]
  },
  {
   "cell_type": "code",
   "execution_count": 7,
   "metadata": {},
   "outputs": [
    {
     "data": {
      "image/png": "[encoded data removed]",
      "text/plain": [
       "<Figure size 432x288 with 1 Axes>"
      ]
     },
     "metadata": {
      "needs_background": "light"
     },
     "output_type": "display_data"
    },
    {
     "name": "stdout",
     "output_type": "stream",
     "text": [
      "132/132 - 1s\n",
      "              precision    recall  f1-score   support\n",
      "\n",
      "    negative       0.87      0.93      0.90      2670\n",
      "    positive       0.84      0.72      0.77      1289\n",
      "\n",
      "    accuracy                           0.86      3959\n",
      "   macro avg       0.86      0.83      0.84      3959\n",
      "weighted avg       0.86      0.86      0.86      3959\n",
      "\n"
     ]
    },
    {
     "data": {
      "image/png": "[encoded data removed]",
      "text/plain": [
       "<Figure size 432x288 with 2 Axes>"
      ]
     },
     "metadata": {
      "needs_background": "light"
     },
     "output_type": "display_data"
    },
    {
     "data": {
      "image/png": "[encoded data removed]",
      "text/plain": [
       "<Figure size 432x288 with 2 Axes>"
      ]
     },
     "metadata": {
      "needs_background": "light"
     },
     "output_type": "display_data"
    }
   ],
   "source": [
    "#LSTM https://www.kaggle.com/monsterspy/conv-lstm-sentiment-analysis-keras-acc-0-96\n",
    "\n",
    "import numpy as np # linear algebra\n",
    "import pandas as pd # data processing, CSV file I/O (e.g. pd.read_csv)\n",
    "\n",
    "import matplotlib.pyplot as plt\n",
    "from keras.preprocessing import sequence\n",
    "from keras.models import Sequential\n",
    "from keras.layers import Dense, Dropout, Activation\n",
    "from keras.layers import Embedding\n",
    "from keras.layers import LSTM\n",
    "from keras.layers import Conv1D, MaxPooling1D\n",
    "from sklearn.feature_extraction.text import CountVectorizer\n",
    "from keras.preprocessing.text import Tokenizer\n",
    "from keras.preprocessing.sequence import pad_sequences\n",
    "from keras.models import Sequential\n",
    "from keras.layers import Dense, Embedding, LSTM\n",
    "from sklearn.model_selection import train_test_split\n",
    "from keras.utils.np_utils import to_categorical\n",
    "from keras.callbacks import EarlyStopping\n",
    "from keras.callbacks import ModelCheckpoint\n",
    "from keras.models import model_from_json\n",
    "from keras.models import Sequential\n",
    "from keras.layers import Dense, Dropout, Activation\n",
    "from keras.optimizers import SGD\n",
    "\n",
    "\n",
    "import keras\n",
    "from keras.datasets import mnist\n",
    "from keras.models import Sequential\n",
    "from keras.layers import Flatten, Dense, Activation\n",
    "from keras.utils.np_utils import to_categorical\n",
    "\n",
    "from sklearn.metrics import confusion_matrix\n",
    "from sklearn import metrics\n",
    "from sklearn.metrics import confusion_matrix\n",
    "\n",
    "from keras.preprocessing import sequence\n",
    "from keras.models import Sequential\n",
    "from keras.layers import Dense, Dropout, Activation\n",
    "from keras.layers import Embedding\n",
    "from keras.layers import LSTM\n",
    "from keras.layers import Conv1D, MaxPooling1D\n",
    "from sklearn.feature_extraction.text import CountVectorizer\n",
    "from keras.preprocessing.text import Tokenizer\n",
    "from keras.preprocessing.sequence import pad_sequences\n",
    "from keras.models import Sequential\n",
    "from keras.layers import Dense, Embedding, LSTM\n",
    "from sklearn.model_selection import train_test_split\n",
    "from keras.utils.np_utils import to_categorical\n",
    "from keras.callbacks import EarlyStopping\n",
    "from keras.callbacks import ModelCheckpoint\n",
    "from keras.models import model_from_json\n",
    "import re\n",
    "import warnings\n",
    "warnings.filterwarnings('ignore')\n",
    "\n",
    "\n",
    "\n",
    "data = pd.read_csv(r'C:\\Users\\MONSTER\\Desktop\\3.1dönem\\makina öğrenmesi proje\\2021_corona.csv') \n",
    "\n",
    "data=data[data.Sentiment_Analysis !=0]\n",
    "print(data.Sentiment_Analysis.value_counts())\n",
    "\n",
    "#Embedding\n",
    "max_features=20000\n",
    "maxlen=100\n",
    "embedding_size=128\n",
    "\n",
    "#Convolution\n",
    "kernel_size=5\n",
    "filters=64\n",
    "pool_size=4\n",
    "\n",
    "lstm_output_size=70\n",
    "\n",
    "batch_size=30\n",
    "epochs=2\n",
    "\n",
    "for idx,row in data.iterrows():\n",
    "    row[0] = row[0].replace('rt',' ')\n",
    "    \n",
    "    \n",
    "\n",
    "tokenizer=Tokenizer(nb_words=max_features,split=' ')\n",
    "tokenizer.fit_on_texts(data['Description'].values)\n",
    "X=tokenizer.texts_to_sequences(data['Description'].values)\n",
    "X=pad_sequences(X, maxlen = maxlen)\n",
    "\n",
    "Y=pd.get_dummies(data['Sentiment_Analysis']).values\n",
    "X_train, X_test, Y_train, Y_test = train_test_split(X,Y, test_size = 0.25, random_state = 42)\n",
    "print(X_train.shape,Y_train.shape)\n",
    "print(X_test.shape,Y_test.shape)\n",
    "\n",
    "\n",
    "\n",
    "\n",
    "\n",
    "class PlotLosses(keras.callbacks.Callback):\n",
    "    def on_train_begin(self, logs={}):\n",
    "        self.i = 0\n",
    "        self.x = []\n",
    "        self.losses = []\n",
    "        self.val_losses = []\n",
    "\n",
    "        self.fig = plt.figure()\n",
    "\n",
    "        self.logs = []\n",
    "\n",
    "    def on_epoch_end(self, epoch, logs={}):\n",
    "\n",
    "        self.logs.append(logs)\n",
    "        self.x.append(self.i)\n",
    "        self.losses.append(logs.get('loss'))\n",
    "        self.val_losses.append(logs.get('val_loss'))\n",
    "        self.i += 1\n",
    "\n",
    "        clear_output(wait=True)\n",
    "        plt.plot(self.x, self.losses, label=\"loss\")\n",
    "        plt.plot(self.x, self.val_losses, label=\"val_loss\")\n",
    "        plt.legend()\n",
    "        plt.show();\n",
    "\n",
    "plot_losses = PlotLosses()\n",
    "\n",
    "\n",
    "\n",
    "\n",
    "\n",
    "model = Sequential()\n",
    "model.add(Embedding(max_features, embedding_size, input_length=maxlen))\n",
    "model.add(Dropout(0.25))\n",
    "model.add(Conv1D(filters, kernel_size, padding='valid', activation='relu', strides=1))\n",
    "model.add(MaxPooling1D(pool_size=pool_size))\n",
    "model.add(LSTM(lstm_output_size))\n",
    "model.add(Dense(2,activation='softmax'))\n",
    "model.compile(loss = 'categorical_crossentropy', optimizer='adam',metrics = ['accuracy'])\n",
    "print(model.summary())\n",
    "\n",
    "model.fit(X_train, Y_train, batch_size=batch_size, epochs=epochs,shuffle=True, validation_data=(X_test, Y_test),callbacks=[plot_losses],verbose = 0)\n",
    "\n",
    "yhat = model.predict(X_test, verbose = 2, batch_size = batch_size)\n",
    "\n",
    "from sklearn import metrics\n",
    "print(metrics.classification_report(Y_test[:,1], np.round(yhat[:,1]) ,target_names = [\"negative\", \"positive\"]))\n",
    "\n",
    "\n",
    "\n",
    "\n",
    "\n",
    "\n",
    "\n",
    "\n",
    "import matplotlib.pyplot as plt\n",
    "import numpy as np\n",
    "import pandas as pd\n",
    "\n",
    "score = ['negative', 'positive']\n",
    "\n",
    "def plot_confusion_matrix(cm, title='Confusion matrix', cmap=plt.cm.Greys):\n",
    "    plt.imshow(cm, interpolation='nearest', cmap=cmap)\n",
    "    plt.title(title)\n",
    "    plt.colorbar()\n",
    "    tick_marks = np.arange(len(set(score)))\n",
    "    plt.xticks(tick_marks, score, rotation=45)\n",
    "    plt.yticks(tick_marks, score)\n",
    "    plt.tight_layout()\n",
    "    plt.ylabel('True label')\n",
    "    plt.xlabel('Predicted label')\n",
    "    \n",
    "# Compute confusion matrix\n",
    "cm = confusion_matrix(Y_test[:,1], np.round(yhat[:,1]))\n",
    "np.set_printoptions(precision=2)\n",
    "plt.figure()\n",
    "plot_confusion_matrix(cm)    \n",
    "\n",
    "cm_normalized = cm.astype('float') / cm.sum(axis=1)[:, np.newaxis]\n",
    "plt.figure()\n",
    "plot_confusion_matrix(cm_normalized, title='Normalized confusion matrix')\n",
    "\n",
    "plt.show()\n"
   ]
  },
  {
   "cell_type": "code",
   "execution_count": null,
   "metadata": {},
   "outputs": [],
   "source": []
  },
  {
   "cell_type": "code",
   "execution_count": null,
   "metadata": {},
   "outputs": [],
   "source": []
  }
 ],
 "metadata": {
  "kernelspec": {
   "display_name": "Python 3",
   "language": "python",
   "name": "python3"
  },
  "language_info": {
   "codemirror_mode": {
    "name": "ipython",
    "version": 3
   },
   "file_extension": ".py",
   "mimetype": "text/x-python",
   "name": "python",
   "nbconvert_exporter": "python",
   "pygments_lexer": "ipython3",
   "version": "3.7.1"
  }
 },
 "nbformat": 4,
 "nbformat_minor": 2
}
